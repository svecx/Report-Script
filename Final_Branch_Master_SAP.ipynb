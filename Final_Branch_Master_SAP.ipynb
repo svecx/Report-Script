{
  "cells": [
    {
      "cell_type": "markdown",
      "metadata": {
        "id": "view-in-github",
        "colab_type": "text"
      },
      "source": [
        "<a href=\"https://colab.research.google.com/github/svecx/Report-Script/blob/staging/Final_Branch_Master_SAP.ipynb\" target=\"_parent\"><img src=\"https://colab.research.google.com/assets/colab-badge.svg\" alt=\"Open In Colab\"/></a>"
      ]
    },
    {
      "cell_type": "code",
      "execution_count": 57,
      "metadata": {
        "id": "MkmJif0ugIxo"
      },
      "outputs": [],
      "source": [
        "import pandas as pd\n",
        "from datetime import datetime\n",
        "import os\n",
        "\n",
        "today = datetime.today().strftime('%d%m%y')"
      ]
    },
    {
      "cell_type": "code",
      "execution_count": 58,
      "metadata": {
        "collapsed": true,
        "id": "B3E7Rm07rBlU"
      },
      "outputs": [],
      "source": [
        "# def load_data():\n",
        "#   try:\n",
        "#     df_master = f\"{today}_BRANCH_MASTER_SAP.XLSX\"\n",
        "#     df_lookup = \"DWH_BRANCH 202508.xlsx\"\n",
        "\n",
        "#     if not os.path.exists(df_master):\n",
        "#       raise FileNotFoundError(f\"❌ File tidak ditemukan: {df_master}\")\n",
        "#     if not os.path.exists(df_master):\n",
        "#       raise FileNotFoundError(f\"❌ File tidak ditemukan: {df}\")\n",
        "\n",
        "#     df_master = pd.read_excel(df_master, keep_default_na=False)\n",
        "#     df_lookup = pd.read_excel(df_lookup, sheet_name=\"Agustus 25\", keep_default_na=False)\n",
        "#     return df_master, df_lookup\n",
        "\n",
        "#   except Exception as e:\n",
        "#     print(f\"⚠️ Gagal load data: {e}\")\n",
        "\n",
        "\n",
        "def load_data(df_title_manual=None):\n",
        "    try:\n",
        "        # Default lookup file (tetap di dalam fungsi)\n",
        "        df_lookup_path = \"DWH_BRANCH 202508.xlsx\"\n",
        "\n",
        "        # Tentukan tanggal\n",
        "        today = datetime.today().strftime(\"%d%m%y\")\n",
        "\n",
        "        # Kalau ada input manual\n",
        "        if df_title_manual:\n",
        "            df_master_file = f\"{df_title_manual}_BRANCH_MASTER_SAP.XLSX\"\n",
        "        else:\n",
        "            # Kalau tidak ada, pakai otomatis (today)\n",
        "            df_master_file = f\"{today}_BRANCH_MASTER_SAP.XLSX\"\n",
        "            # contoh tambahan kalau mau pakai yesterday\n",
        "            # src = f\"Data {yesterday}_ZBRI_SRC_RO_SMNT.XLSX\"\n",
        "\n",
        "        # Validasi file\n",
        "        if not os.path.exists(df_master_file):\n",
        "            raise FileNotFoundError(f\"❌ File tidak ditemukan: {df_master_file}\")\n",
        "        if not os.path.exists(df_lookup_path):\n",
        "            raise FileNotFoundError(f\"❌ File tidak ditemukan: {df_lookup_path}\")\n",
        "\n",
        "        # Load data\n",
        "        df_master = pd.read_excel(df_master_file, keep_default_na=False)\n",
        "        df_lookup = pd.read_excel(df_lookup_path, sheet_name=\"Agustus 25\", keep_default_na=False)\n",
        "\n",
        "        return df_master, df_lookup\n",
        "\n",
        "    except Exception as e:\n",
        "        print(f\"⚠️ Gagal load data: {e}\")\n",
        "        return None, None\n",
        "\n",
        "def merge_data(df_master, df_lookup):\n",
        "  try:\n",
        "    df_result = pd.merge(\n",
        "        df_master,\n",
        "        df_lookup[['SUBBR', 'MBNAME', 'RGNAME']],\n",
        "        left_on=\"Branch ID - Originating Branch of Accoun\",\n",
        "        right_on=\"SUBBR\",\n",
        "        how=\"left\"\n",
        "    )\n",
        "    df_result[['MBNAME', 'RGNAME']] = df_result[['MBNAME', 'RGNAME']].fillna(\"#NA\")\n",
        "    df_result = df_result[\n",
        "        ['Branch ID - Originating Branch of Accoun','Single-Character Flag','Location of the Branch',\n",
        "         'Revenue Owner','Business Segment','Changed by','Changed On','Time of change','MBNAME','RGNAME']\n",
        "    ]\n",
        "    return df_result\n",
        "  except Exception as e:\n",
        "    print(f\"⚠️ Gagal merge data: {e}\")\n",
        "    return None\n"
      ]
    },
    {
      "cell_type": "code",
      "execution_count": 59,
      "metadata": {
        "collapsed": true,
        "id": "FpPET99nFzbt"
      },
      "outputs": [],
      "source": [
        "def generate_summary(df_master, df_result):\n",
        "  try:\n",
        "    filter_1 = df_master.groupby(\n",
        "        ['Single-Character Flag','Revenue Owner','Business Segment'], dropna=False\n",
        "    ).size().reset_index(name='Jumlah')\n",
        "\n",
        "    filter_2 = filter_1[\n",
        "        (filter_1['Single-Character Flag'] == 'U') & (\n",
        "            (filter_1['Revenue Owner'].isna() | (filter_1['Revenue Owner'] == '')) |\n",
        "            (filter_1['Business Segment'].isna() | (filter_1['Business Segment'] == ''))\n",
        "        )\n",
        "    ].shape[0]\n",
        "\n",
        "    T_Filter3 = df_result[df_result['MBNAME'] == '#NA'].shape[0]\n",
        "    T_Filter4 = df_result[df_result['RGNAME'] == '#NA'].shape[0]\n",
        "\n",
        "    summary = pd.DataFrame({\n",
        "        'Nama': ['Filter 2', 'T_Filter3', 'T_Filter4'],\n",
        "        'Jumlah': [filter_2, T_Filter3, T_Filter4]\n",
        "    })\n",
        "\n",
        "    return summary, (filter_2, T_Filter3, T_Filter4)\n",
        "\n",
        "  except Exception as e:\n",
        "    print(f\"⚠️ Gagal Filter Data: {e}\")\n",
        "    return None\n",
        "\n",
        "\n",
        "def validate(filters):\n",
        "  try:\n",
        "    filter_2, T_Filter3, T_Filter4 = filters\n",
        "    validations = [\n",
        "        (\"Filter_2 harus < 1\", filter_2 < 1),\n",
        "        (\"T_Filter3 harus = 12\", T_Filter3 == 12),\n",
        "        (\"T_Filter4 harus = 12\", T_Filter4 == 12),\n",
        "    ]\n",
        "    invalids = [f\"❌ {msg}\" for msg, condition in validations if not condition]\n",
        "\n",
        "    if invalids:\n",
        "        print(\"📌 Masalah ditemukan:\\n\" + \"\\n\".join(invalids))\n",
        "    else:\n",
        "        print(\"✅ Semua kondisi terpenuhi, data aman.\")\n",
        "\n",
        "  except Exception as e:\n",
        "    print(f\"⚠️ Gagal Validasi Data: {e}\")\n",
        "    return None\n"
      ]
    },
    {
      "cell_type": "code",
      "execution_count": 60,
      "metadata": {
        "id": "6oreo-qB1s9M"
      },
      "outputs": [],
      "source": [
        "# def save_result(df_result):\n",
        "#   try:\n",
        "#     filename = f\"Merge Branch Master Sap {today}.xlsx\"\n",
        "#     df_result.to_excel(filename, index=False)\n",
        "#     print(f\"📂 File berhasil disimpan: {filename}\")\n",
        "\n",
        "#   except Exception as e:\n",
        "#     print(f\"⚠️ Gagal Simpan Data: {e}\")\n",
        "#     return None\n",
        "\n",
        "def save_result(df_result):\n",
        "    try:\n",
        "        today = datetime.today().strftime(\"%d%m%y\")\n",
        "        filename = f\"Merge Branch Master Sap {today}.xlsx\"\n",
        "\n",
        "        # simpan dulu ke excel dengan openpyxl\n",
        "        df_result.to_excel(filename, index=False, engine=\"openpyxl\")\n",
        "\n",
        "        # buka file excel untuk atur auto width\n",
        "        wb = load_workbook(filename)\n",
        "        ws = wb.active\n",
        "\n",
        "        for col in ws.columns:\n",
        "            max_length = 0\n",
        "            col_letter = col[0].column_letter  # ambil nama kolom (A, B, C, dst.)\n",
        "\n",
        "            for cell in col:\n",
        "                try:\n",
        "                    if cell.value:\n",
        "                        length = len(str(cell.value))\n",
        "                        if length > max_length:\n",
        "                            max_length = length\n",
        "                except Exception:\n",
        "                    pass\n",
        "\n",
        "            adjusted_width = max_length + 2  # kasih sedikit spasi\n",
        "            ws.column_dimensions[col_letter].width = adjusted_width\n",
        "\n",
        "        wb.save(filename)\n",
        "        print(f\"📂 File berhasil disimpan dengan auto width: {filename}\")\n",
        "\n",
        "    except Exception as e:\n",
        "        print(f\"⚠️ Gagal Simpan Data: {e}\")\n",
        "        return None"
      ]
    },
    {
      "cell_type": "code",
      "source": [
        "def main():\n",
        "  # df_master, df_lookup = load_data(\"20250914\")\n",
        "  df_master, df_lookup = load_data()\n",
        "  df_result = merge_data(df_master, df_lookup)\n",
        "  summary, filters = generate_summary(df_master, df_result)\n",
        "  print(summary)\n",
        "  validate(filters)\n",
        "  save_result(df_result)\n",
        "\n",
        "\n",
        "main()"
      ],
      "metadata": {
        "id": "h_YffMspXeXw",
        "colab": {
          "base_uri": "https://localhost:8080/"
        },
        "outputId": "8510bd3d-c361-4ae9-ae3e-043b6898bb76"
      },
      "execution_count": 61,
      "outputs": [
        {
          "output_type": "stream",
          "name": "stdout",
          "text": [
            "        Nama  Jumlah\n",
            "0   Filter 2       0\n",
            "1  T_Filter3      12\n",
            "2  T_Filter4      12\n",
            "✅ Semua kondisi terpenuhi, data aman.\n",
            "⚠️ Gagal Simpan Data: name 'load_workbook' is not defined\n"
          ]
        }
      ]
    }
  ],
  "metadata": {
    "colab": {
      "provenance": [],
      "collapsed_sections": [
        "5KeX6229qZmO"
      ],
      "authorship_tag": "ABX9TyO1gnDe8jSL38KlcSdfsTVI",
      "include_colab_link": true
    },
    "kernelspec": {
      "display_name": "Python 3",
      "name": "python3"
    },
    "language_info": {
      "name": "python"
    }
  },
  "nbformat": 4,
  "nbformat_minor": 0
}