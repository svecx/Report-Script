{
  "nbformat": 4,
  "nbformat_minor": 0,
  "metadata": {
    "colab": {
      "provenance": [],
      "authorship_tag": "ABX9TyMYktTUzXQ9bUH22TZ/+3A/",
      "include_colab_link": true
    },
    "kernelspec": {
      "name": "python3",
      "display_name": "Python 3"
    },
    "language_info": {
      "name": "python"
    }
  },
  "cells": [
    {
      "cell_type": "markdown",
      "metadata": {
        "id": "view-in-github",
        "colab_type": "text"
      },
      "source": [
        "<a href=\"https://colab.research.google.com/github/svecx/Report-Script/blob/staging/SRC_RO_SMNT.ipynb\" target=\"_parent\"><img src=\"https://colab.research.google.com/assets/colab-badge.svg\" alt=\"Open In Colab\"/></a>"
      ]
    },
    {
      "cell_type": "code",
      "source": [
        "import pandas as pd\n",
        "from datetime import datetime, timedelta"
      ],
      "metadata": {
        "id": "6pD-Xw2_9G2o"
      },
      "execution_count": 31,
      "outputs": []
    },
    {
      "cell_type": "code",
      "source": [
        "def load_data():\n",
        "    df_title = (datetime.today() - timedelta(days=1)).strftime('%d%m%y')\n",
        "    src = pd.read_excel(f'Data {df_title}_ZBRI_SRC_RO_SMNT.XLSX')\n",
        "    Dmedium = pd.read_excel('/content/Daily Medium Corporate NDS Tagging 080825.xlsx', header=2)\n",
        "    Dmedium = Dmedium.drop(columns=[\"Unnamed: 0\"])\n",
        "    return src, Dmedium\n",
        "\n",
        "def merge_data(src, Dmedium):\n",
        "    R_Src_RO = pd.merge(\n",
        "        src,\n",
        "        Dmedium[['RO Code', 'RO DESCRIPTION', 'SEGMENT']],\n",
        "        left_on='Revenue Owner',\n",
        "        right_on='RO Code',\n",
        "        how=\"left\"\n",
        "    )\n",
        "    return R_Src_RO\n"
      ],
      "metadata": {
        "id": "XplI7xPJ-QyR",
        "collapsed": true
      },
      "execution_count": 32,
      "outputs": []
    },
    {
      "cell_type": "code",
      "source": [
        "def filter_data(R_Src_RO):\n",
        "    R_Src_RO = R_Src_RO.rename(columns={\n",
        "        \"RO DESCRIPTION\": \"RO Description\",\n",
        "        \"SEGMENT\": \"Segment Description\"\n",
        "    })\n",
        "\n",
        "    # Ambil kolom sesuai urutan\n",
        "    R_Src_RO = R_Src_RO[[\n",
        "        'Date',\n",
        "        'External Number - Source',\n",
        "        'External Number',\n",
        "        'Revenue Owner',\n",
        "        'RO Description',\n",
        "        'Business Segment',\n",
        "        'Segment Description',\n",
        "        'Rev Own & Segment Flag',\n",
        "        'Source System Basic Data',\n",
        "        'Changed by',\n",
        "        'Changed On',\n",
        "        'Time of change'\n",
        "    ]]\n",
        "    return R_Src_RO"
      ],
      "metadata": {
        "id": "iZ_NCRfAhI8e",
        "collapsed": true
      },
      "execution_count": 33,
      "outputs": []
    },
    {
      "cell_type": "code",
      "source": [
        "def save_result(R_Src_RO):\n",
        "    yesterday = (datetime.today() - timedelta(days=1)).strftime('%d%m%y')\n",
        "    filename = f\"{yesterday}_ZBRI_SRC_RO_SMNT.xlsx\"\n",
        "    R_Src_RO.to_excel(filename, index=False)\n",
        "    print(f\"📂 File berhasil disimpan: {filename}\")"
      ],
      "metadata": {
        "id": "iyL8_1XyeNYa"
      },
      "execution_count": 34,
      "outputs": []
    },
    {
      "cell_type": "code",
      "source": [
        "src, Dmedium = load_data()\n",
        "df_result = merge_data(src, Dmedium)\n",
        "df_result = filter_data(df_result)\n",
        "save_result(df_result)"
      ],
      "metadata": {
        "colab": {
          "base_uri": "https://localhost:8080/"
        },
        "id": "jfzIuVHeiLrm",
        "outputId": "34f27755-ac0f-4d27-a7d1-81748e7cc887"
      },
      "execution_count": 35,
      "outputs": [
        {
          "output_type": "stream",
          "name": "stdout",
          "text": [
            "📂 File berhasil disimpan: 210825_ZBRI_SRC_RO_SMNT.xlsx\n"
          ]
        }
      ]
    }
  ]
}